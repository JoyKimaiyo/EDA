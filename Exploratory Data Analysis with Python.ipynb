{
 "cells": [
  {
   "cell_type": "code",
   "execution_count": 51,
   "id": "c8d73a24",
   "metadata": {},
   "outputs": [],
   "source": [
    "#data reading and manipulation\n",
    "import pandas as pd\n",
    "import numpy as np \n",
    "\n",
    "#for data Visualization\n",
    "import matplotlib.pyplot as plt\n",
    "import seaborn as  sns\n",
    "\n",
    "#for correlation\n",
    "from scipy import stats\n",
    "\n",
    "%matplotlib inline\n",
    "import warnings\n",
    "warnings.filterwarnings('ignore')"
   ]
  },
  {
   "cell_type": "code",
   "execution_count": 27,
   "id": "c564b81a",
   "metadata": {},
   "outputs": [
    {
     "data": {
      "text/html": [
       "<div>\n",
       "<style scoped>\n",
       "    .dataframe tbody tr th:only-of-type {\n",
       "        vertical-align: middle;\n",
       "    }\n",
       "\n",
       "    .dataframe tbody tr th {\n",
       "        vertical-align: top;\n",
       "    }\n",
       "\n",
       "    .dataframe thead th {\n",
       "        text-align: right;\n",
       "    }\n",
       "</style>\n",
       "<table border=\"1\" class=\"dataframe\">\n",
       "  <thead>\n",
       "    <tr style=\"text-align: right;\">\n",
       "      <th></th>\n",
       "      <th>UnitCost</th>\n",
       "      <th>Sales</th>\n",
       "      <th>Profit</th>\n",
       "    </tr>\n",
       "  </thead>\n",
       "  <tbody>\n",
       "    <tr>\n",
       "      <th>0</th>\n",
       "      <td>21.854305</td>\n",
       "      <td>508.704707</td>\n",
       "      <td>486.850401</td>\n",
       "    </tr>\n",
       "    <tr>\n",
       "      <th>1</th>\n",
       "      <td>47.782144</td>\n",
       "      <td>470.099265</td>\n",
       "      <td>422.317121</td>\n",
       "    </tr>\n",
       "    <tr>\n",
       "      <th>2</th>\n",
       "      <td>189.698637</td>\n",
       "      <td>1018.352155</td>\n",
       "      <td>471.236350</td>\n",
       "    </tr>\n",
       "    <tr>\n",
       "      <th>3</th>\n",
       "      <td>31.939632</td>\n",
       "      <td>301.243109</td>\n",
       "      <td>269.303477</td>\n",
       "    </tr>\n",
       "    <tr>\n",
       "      <th>4</th>\n",
       "      <td>12.020839</td>\n",
       "      <td>478.032811</td>\n",
       "      <td>466.011972</td>\n",
       "    </tr>\n",
       "  </tbody>\n",
       "</table>\n",
       "</div>"
      ],
      "text/plain": [
       "     UnitCost        Sales      Profit\n",
       "0   21.854305   508.704707  486.850401\n",
       "1   47.782144   470.099265  422.317121\n",
       "2  189.698637  1018.352155  471.236350\n",
       "3   31.939632   301.243109  269.303477\n",
       "4   12.020839   478.032811  466.011972"
      ]
     },
     "execution_count": 27,
     "metadata": {},
     "output_type": "execute_result"
    }
   ],
   "source": [
    "df = pd.read_csv(r'C:\\Users\\Joy\\Downloads\\Data Set for Business Analytics Assignment 2.csv')\n",
    "df.head()"
   ]
  },
  {
   "cell_type": "code",
   "execution_count": 28,
   "id": "1e1440aa",
   "metadata": {},
   "outputs": [
    {
     "data": {
      "text/html": [
       "<div>\n",
       "<style scoped>\n",
       "    .dataframe tbody tr th:only-of-type {\n",
       "        vertical-align: middle;\n",
       "    }\n",
       "\n",
       "    .dataframe tbody tr th {\n",
       "        vertical-align: top;\n",
       "    }\n",
       "\n",
       "    .dataframe thead th {\n",
       "        text-align: right;\n",
       "    }\n",
       "</style>\n",
       "<table border=\"1\" class=\"dataframe\">\n",
       "  <thead>\n",
       "    <tr style=\"text-align: right;\">\n",
       "      <th></th>\n",
       "      <th>UnitCost</th>\n",
       "      <th>Sales</th>\n",
       "      <th>Profit</th>\n",
       "    </tr>\n",
       "  </thead>\n",
       "  <tbody>\n",
       "    <tr>\n",
       "      <th>count</th>\n",
       "      <td>95.000000</td>\n",
       "      <td>95.000000</td>\n",
       "      <td>100.000000</td>\n",
       "    </tr>\n",
       "    <tr>\n",
       "      <th>mean</th>\n",
       "      <td>36.477065</td>\n",
       "      <td>551.843037</td>\n",
       "      <td>473.733831</td>\n",
       "    </tr>\n",
       "    <tr>\n",
       "      <th>std</th>\n",
       "      <td>41.691400</td>\n",
       "      <td>185.058741</td>\n",
       "      <td>94.232806</td>\n",
       "    </tr>\n",
       "    <tr>\n",
       "      <th>min</th>\n",
       "      <td>5.248495</td>\n",
       "      <td>301.243109</td>\n",
       "      <td>259.669437</td>\n",
       "    </tr>\n",
       "    <tr>\n",
       "      <th>25%</th>\n",
       "      <td>15.600180</td>\n",
       "      <td>447.598479</td>\n",
       "      <td>402.872525</td>\n",
       "    </tr>\n",
       "    <tr>\n",
       "      <th>50%</th>\n",
       "      <td>28.403061</td>\n",
       "      <td>517.457781</td>\n",
       "      <td>479.864679</td>\n",
       "    </tr>\n",
       "    <tr>\n",
       "      <th>75%</th>\n",
       "      <td>40.106948</td>\n",
       "      <td>582.462170</td>\n",
       "      <td>529.131281</td>\n",
       "    </tr>\n",
       "    <tr>\n",
       "      <th>max</th>\n",
       "      <td>243.156541</td>\n",
       "      <td>1373.154902</td>\n",
       "      <td>736.928966</td>\n",
       "    </tr>\n",
       "  </tbody>\n",
       "</table>\n",
       "</div>"
      ],
      "text/plain": [
       "         UnitCost        Sales      Profit\n",
       "count   95.000000    95.000000  100.000000\n",
       "mean    36.477065   551.843037  473.733831\n",
       "std     41.691400   185.058741   94.232806\n",
       "min      5.248495   301.243109  259.669437\n",
       "25%     15.600180   447.598479  402.872525\n",
       "50%     28.403061   517.457781  479.864679\n",
       "75%     40.106948   582.462170  529.131281\n",
       "max    243.156541  1373.154902  736.928966"
      ]
     },
     "execution_count": 28,
     "metadata": {},
     "output_type": "execute_result"
    }
   ],
   "source": [
    "#describing the dataset\n",
    "df.describe()"
   ]
  },
  {
   "cell_type": "code",
   "execution_count": 29,
   "id": "051c7fc7",
   "metadata": {},
   "outputs": [
    {
     "data": {
      "text/plain": [
       "(100, 3)"
      ]
     },
     "execution_count": 29,
     "metadata": {},
     "output_type": "execute_result"
    }
   ],
   "source": [
    "df.shape #the number of columns and rows in the dataset"
   ]
  },
  {
   "cell_type": "code",
   "execution_count": 30,
   "id": "60a24299",
   "metadata": {},
   "outputs": [
    {
     "data": {
      "text/plain": [
       "<Axes: ylabel='Density'>"
      ]
     },
     "execution_count": 30,
     "metadata": {},
     "output_type": "execute_result"
    },
    {
     "data": {
      "image/png": "[encoded data removed]",
      "text/plain": [
       "<Figure size 640x480 with 1 Axes>"
      ]
     },
     "metadata": {},
     "output_type": "display_data"
    }
   ],
   "source": [
    "sns.kdeplot(df) #plotting the distribution of the data"
   ]
  },
  {
   "cell_type": "code",
   "execution_count": 31,
   "id": "0253c926",
   "metadata": {},
   "outputs": [
    {
     "data": {
      "text/plain": [
       "UnitCost    5\n",
       "Sales       5\n",
       "Profit      0\n",
       "dtype: int64"
      ]
     },
     "execution_count": 31,
     "metadata": {},
     "output_type": "execute_result"
    }
   ],
   "source": [
    "df.isnull().sum() #identifying null values"
   ]
  },
  {
   "cell_type": "code",
   "execution_count": 32,
   "id": "9bf5863b",
   "metadata": {},
   "outputs": [],
   "source": [
    "median_imp = df['UnitCost'].median()\n",
    "df['UnitCost'].fillna(median_imp, inplace=True)"
   ]
  },
  {
   "cell_type": "code",
   "execution_count": 33,
   "id": "1cb8130a",
   "metadata": {},
   "outputs": [
    {
     "data": {
      "text/plain": [
       "0"
      ]
     },
     "execution_count": 33,
     "metadata": {},
     "output_type": "execute_result"
    }
   ],
   "source": [
    "df['UnitCost'].isnull().sum()"
   ]
  },
  {
   "cell_type": "code",
   "execution_count": 34,
   "id": "101bda40",
   "metadata": {},
   "outputs": [],
   "source": [
    "median_imp2 = df['Sales'].median()\n",
    "df['Sales'].fillna(median_imp2, inplace=True)"
   ]
  },
  {
   "cell_type": "code",
   "execution_count": 35,
   "id": "5f3e1ed3",
   "metadata": {},
   "outputs": [
    {
     "data": {
      "text/plain": [
       "0"
      ]
     },
     "execution_count": 35,
     "metadata": {},
     "output_type": "execute_result"
    }
   ],
   "source": [
    "df['Sales'].isnull().sum()"
   ]
  },
  {
   "cell_type": "code",
   "execution_count": 36,
   "id": "fa51957a",
   "metadata": {},
   "outputs": [
    {
     "data": {
      "text/plain": [
       "UnitCost    0\n",
       "Sales       0\n",
       "Profit      0\n",
       "dtype: int64"
      ]
     },
     "execution_count": 36,
     "metadata": {},
     "output_type": "execute_result"
    }
   ],
   "source": [
    "df.isnull().sum()"
   ]
  },
  {
   "cell_type": "code",
   "execution_count": 37,
   "id": "a83bd7b8",
   "metadata": {},
   "outputs": [
    {
     "data": {
      "text/plain": [
       "<Axes: ylabel='Density'>"
      ]
     },
     "execution_count": 37,
     "metadata": {},
     "output_type": "execute_result"
    },
    {
     "data": {
      "image/png": "[encoded data removed]",
      "text/plain": [
       "<Figure size 640x480 with 1 Axes>"
      ]
     },
     "metadata": {},
     "output_type": "display_data"
    }
   ],
   "source": [
    "sns.kdeplot(df)"
   ]
  },
  {
   "cell_type": "code",
   "execution_count": 38,
   "id": "1b14cf35",
   "metadata": {},
   "outputs": [
    {
     "data": {
      "image/png": "[encoded data removed]",
      "text/plain": [
       "<Figure size 1500x500 with 3 Axes>"
      ]
     },
     "metadata": {},
     "output_type": "display_data"
    }
   ],
   "source": [
    "fig, axes = plt.subplots(nrows=1, ncols=3, figsize=(15, 5))\n",
    "gc = ['blue', 'brown', 'blue']\n",
    "\n",
    "sns.histplot(x='UnitCost', data=df, ax=axes[0], color=gc[0])\n",
    "axes[0].set_title('UnitCost Distribution')\n",
    "\n",
    "sns.histplot(x='Sales', data=df, ax=axes[1], color=gc[1])\n",
    "axes[1].set_title('Sales Distribution')\n",
    "\n",
    "sns.histplot(x='Profit', data=df, ax=axes[2], color=gc[2])\n",
    "axes[2].set_title('Profit Distribution')\n",
    "\n",
    "plt.show()\n"
   ]
  },
  {
   "cell_type": "code",
   "execution_count": 39,
   "id": "fc66d51b",
   "metadata": {},
   "outputs": [
    {
     "name": "stdout",
     "output_type": "stream",
     "text": [
      "The number of outliers in the Profit column is: 1\n"
     ]
    }
   ],
   "source": [
    "#detecting outliers in profit column\n",
    "Q1 = df['Profit'].quantile(0.25)\n",
    "Q3 = df['Profit'].quantile(0.75)\n",
    "IQR = Q3 - Q1\n",
    "\n",
    "outliers = (df['Profit'] < (Q1 - 1.5 * IQR)) | (df['Profit'] > (Q3 + 1.5 * IQR))\n",
    "num_outliers = outliers.sum()\n",
    "\n",
    "print('The number of outliers in the Profit column is:',num_outliers)\n"
   ]
  },
  {
   "cell_type": "code",
   "execution_count": 40,
   "id": "b85375cc",
   "metadata": {},
   "outputs": [
    {
     "data": {
      "text/html": [
       "<div>\n",
       "<style scoped>\n",
       "    .dataframe tbody tr th:only-of-type {\n",
       "        vertical-align: middle;\n",
       "    }\n",
       "\n",
       "    .dataframe tbody tr th {\n",
       "        vertical-align: top;\n",
       "    }\n",
       "\n",
       "    .dataframe thead th {\n",
       "        text-align: right;\n",
       "    }\n",
       "</style>\n",
       "<table border=\"1\" class=\"dataframe\">\n",
       "  <thead>\n",
       "    <tr style=\"text-align: right;\">\n",
       "      <th></th>\n",
       "      <th>UnitCost</th>\n",
       "      <th>Sales</th>\n",
       "      <th>Profit</th>\n",
       "    </tr>\n",
       "  </thead>\n",
       "  <tbody>\n",
       "    <tr>\n",
       "      <th>0</th>\n",
       "      <td>21.854305</td>\n",
       "      <td>508.704707</td>\n",
       "      <td>486.850401</td>\n",
       "    </tr>\n",
       "    <tr>\n",
       "      <th>1</th>\n",
       "      <td>47.782144</td>\n",
       "      <td>470.099265</td>\n",
       "      <td>422.317121</td>\n",
       "    </tr>\n",
       "    <tr>\n",
       "      <th>2</th>\n",
       "      <td>189.698637</td>\n",
       "      <td>1018.352155</td>\n",
       "      <td>471.236350</td>\n",
       "    </tr>\n",
       "    <tr>\n",
       "      <th>3</th>\n",
       "      <td>31.939632</td>\n",
       "      <td>301.243109</td>\n",
       "      <td>269.303477</td>\n",
       "    </tr>\n",
       "    <tr>\n",
       "      <th>4</th>\n",
       "      <td>12.020839</td>\n",
       "      <td>478.032811</td>\n",
       "      <td>466.011972</td>\n",
       "    </tr>\n",
       "    <tr>\n",
       "      <th>...</th>\n",
       "      <td>...</td>\n",
       "      <td>...</td>\n",
       "      <td>...</td>\n",
       "    </tr>\n",
       "    <tr>\n",
       "      <th>95</th>\n",
       "      <td>27.220802</td>\n",
       "      <td>418.418971</td>\n",
       "      <td>391.198170</td>\n",
       "    </tr>\n",
       "    <tr>\n",
       "      <th>96</th>\n",
       "      <td>28.522977</td>\n",
       "      <td>492.289829</td>\n",
       "      <td>463.766852</td>\n",
       "    </tr>\n",
       "    <tr>\n",
       "      <th>97</th>\n",
       "      <td>24.239346</td>\n",
       "      <td>534.115198</td>\n",
       "      <td>509.875852</td>\n",
       "    </tr>\n",
       "    <tr>\n",
       "      <th>98</th>\n",
       "      <td>30.719304</td>\n",
       "      <td>1055.338160</td>\n",
       "      <td>521.525219</td>\n",
       "    </tr>\n",
       "    <tr>\n",
       "      <th>99</th>\n",
       "      <td>9.855114</td>\n",
       "      <td>582.718325</td>\n",
       "      <td>572.863211</td>\n",
       "    </tr>\n",
       "  </tbody>\n",
       "</table>\n",
       "<p>99 rows × 3 columns</p>\n",
       "</div>"
      ],
      "text/plain": [
       "      UnitCost        Sales      Profit\n",
       "0    21.854305   508.704707  486.850401\n",
       "1    47.782144   470.099265  422.317121\n",
       "2   189.698637  1018.352155  471.236350\n",
       "3    31.939632   301.243109  269.303477\n",
       "4    12.020839   478.032811  466.011972\n",
       "..         ...          ...         ...\n",
       "95   27.220802   418.418971  391.198170\n",
       "96   28.522977   492.289829  463.766852\n",
       "97   24.239346   534.115198  509.875852\n",
       "98   30.719304  1055.338160  521.525219\n",
       "99    9.855114   582.718325  572.863211\n",
       "\n",
       "[99 rows x 3 columns]"
      ]
     },
     "execution_count": 40,
     "metadata": {},
     "output_type": "execute_result"
    }
   ],
   "source": [
    "df= df[~outliers]\n",
    "df"
   ]
  },
  {
   "cell_type": "code",
   "execution_count": 41,
   "id": "4f94e0af",
   "metadata": {},
   "outputs": [
    {
     "data": {
      "text/html": [
       "<div>\n",
       "<style scoped>\n",
       "    .dataframe tbody tr th:only-of-type {\n",
       "        vertical-align: middle;\n",
       "    }\n",
       "\n",
       "    .dataframe tbody tr th {\n",
       "        vertical-align: top;\n",
       "    }\n",
       "\n",
       "    .dataframe thead th {\n",
       "        text-align: right;\n",
       "    }\n",
       "</style>\n",
       "<table border=\"1\" class=\"dataframe\">\n",
       "  <thead>\n",
       "    <tr style=\"text-align: right;\">\n",
       "      <th></th>\n",
       "      <th>UnitCost</th>\n",
       "      <th>Sales</th>\n",
       "      <th>Profit</th>\n",
       "      <th>unit_cost</th>\n",
       "    </tr>\n",
       "  </thead>\n",
       "  <tbody>\n",
       "    <tr>\n",
       "      <th>0</th>\n",
       "      <td>21.854305</td>\n",
       "      <td>508.704707</td>\n",
       "      <td>486.850401</td>\n",
       "      <td>3.084398</td>\n",
       "    </tr>\n",
       "    <tr>\n",
       "      <th>1</th>\n",
       "      <td>47.782144</td>\n",
       "      <td>470.099265</td>\n",
       "      <td>422.317121</td>\n",
       "      <td>3.866652</td>\n",
       "    </tr>\n",
       "    <tr>\n",
       "      <th>2</th>\n",
       "      <td>189.698637</td>\n",
       "      <td>1018.352155</td>\n",
       "      <td>471.236350</td>\n",
       "      <td>5.245437</td>\n",
       "    </tr>\n",
       "    <tr>\n",
       "      <th>3</th>\n",
       "      <td>31.939632</td>\n",
       "      <td>301.243109</td>\n",
       "      <td>269.303477</td>\n",
       "      <td>3.463848</td>\n",
       "    </tr>\n",
       "    <tr>\n",
       "      <th>4</th>\n",
       "      <td>12.020839</td>\n",
       "      <td>478.032811</td>\n",
       "      <td>466.011972</td>\n",
       "      <td>2.486642</td>\n",
       "    </tr>\n",
       "    <tr>\n",
       "      <th>...</th>\n",
       "      <td>...</td>\n",
       "      <td>...</td>\n",
       "      <td>...</td>\n",
       "      <td>...</td>\n",
       "    </tr>\n",
       "    <tr>\n",
       "      <th>95</th>\n",
       "      <td>27.220802</td>\n",
       "      <td>418.418971</td>\n",
       "      <td>391.198170</td>\n",
       "      <td>3.303981</td>\n",
       "    </tr>\n",
       "    <tr>\n",
       "      <th>96</th>\n",
       "      <td>28.522977</td>\n",
       "      <td>492.289829</td>\n",
       "      <td>463.766852</td>\n",
       "      <td>3.350710</td>\n",
       "    </tr>\n",
       "    <tr>\n",
       "      <th>97</th>\n",
       "      <td>24.239346</td>\n",
       "      <td>534.115198</td>\n",
       "      <td>509.875852</td>\n",
       "      <td>3.187977</td>\n",
       "    </tr>\n",
       "    <tr>\n",
       "      <th>98</th>\n",
       "      <td>30.719304</td>\n",
       "      <td>1055.338160</td>\n",
       "      <td>521.525219</td>\n",
       "      <td>3.424891</td>\n",
       "    </tr>\n",
       "    <tr>\n",
       "      <th>99</th>\n",
       "      <td>9.855114</td>\n",
       "      <td>582.718325</td>\n",
       "      <td>572.863211</td>\n",
       "      <td>2.287991</td>\n",
       "    </tr>\n",
       "  </tbody>\n",
       "</table>\n",
       "<p>99 rows × 4 columns</p>\n",
       "</div>"
      ],
      "text/plain": [
       "      UnitCost        Sales      Profit  unit_cost\n",
       "0    21.854305   508.704707  486.850401   3.084398\n",
       "1    47.782144   470.099265  422.317121   3.866652\n",
       "2   189.698637  1018.352155  471.236350   5.245437\n",
       "3    31.939632   301.243109  269.303477   3.463848\n",
       "4    12.020839   478.032811  466.011972   2.486642\n",
       "..         ...          ...         ...        ...\n",
       "95   27.220802   418.418971  391.198170   3.303981\n",
       "96   28.522977   492.289829  463.766852   3.350710\n",
       "97   24.239346   534.115198  509.875852   3.187977\n",
       "98   30.719304  1055.338160  521.525219   3.424891\n",
       "99    9.855114   582.718325  572.863211   2.287991\n",
       "\n",
       "[99 rows x 4 columns]"
      ]
     },
     "execution_count": 41,
     "metadata": {},
     "output_type": "execute_result"
    }
   ],
   "source": [
    "#detecting outliers in UnitCost column\n",
    "df['unit_cost'] = np.log(df['UnitCost'])\n",
    "df"
   ]
  },
  {
   "cell_type": "code",
   "execution_count": 42,
   "id": "0c30b38a",
   "metadata": {},
   "outputs": [
    {
     "data": {
      "text/plain": [
       "<Axes: xlabel='unit_cost', ylabel='Count'>"
      ]
     },
     "execution_count": 42,
     "metadata": {},
     "output_type": "execute_result"
    },
    {
     "data": {
      "image/png": "[encoded data removed]",
      "text/plain": [
       "<Figure size 640x480 with 1 Axes>"
      ]
     },
     "metadata": {},
     "output_type": "display_data"
    }
   ],
   "source": [
    "sns.histplot(x='unit_cost',data=df)"
   ]
  },
  {
   "cell_type": "code",
   "execution_count": 43,
   "id": "8066153d",
   "metadata": {},
   "outputs": [
    {
     "name": "stdout",
     "output_type": "stream",
     "text": [
      "The number of outliers in the unit_cost column is: 4\n"
     ]
    }
   ],
   "source": [
    "Q1 = df['unit_cost'].quantile(0.25)\n",
    "Q3 = df['unit_cost'].quantile(0.75)\n",
    "IQR = Q3 - Q1\n",
    "\n",
    "outliers2 = (df['unit_cost'] < (Q1 - 1.5 * IQR)) | (df['unit_cost'] > (Q3 + 1.5 * IQR))\n",
    "num_outliers = outliers2.sum()\n",
    "\n",
    "print('The number of outliers in the unit_cost column is:',num_outliers)\n"
   ]
  },
  {
   "cell_type": "code",
   "execution_count": 44,
   "id": "7fa83fac",
   "metadata": {},
   "outputs": [
    {
     "data": {
      "text/html": [
       "<div>\n",
       "<style scoped>\n",
       "    .dataframe tbody tr th:only-of-type {\n",
       "        vertical-align: middle;\n",
       "    }\n",
       "\n",
       "    .dataframe tbody tr th {\n",
       "        vertical-align: top;\n",
       "    }\n",
       "\n",
       "    .dataframe thead th {\n",
       "        text-align: right;\n",
       "    }\n",
       "</style>\n",
       "<table border=\"1\" class=\"dataframe\">\n",
       "  <thead>\n",
       "    <tr style=\"text-align: right;\">\n",
       "      <th></th>\n",
       "      <th>UnitCost</th>\n",
       "      <th>Sales</th>\n",
       "      <th>Profit</th>\n",
       "      <th>unit_cost</th>\n",
       "    </tr>\n",
       "  </thead>\n",
       "  <tbody>\n",
       "    <tr>\n",
       "      <th>0</th>\n",
       "      <td>21.854305</td>\n",
       "      <td>508.704707</td>\n",
       "      <td>486.850401</td>\n",
       "      <td>3.084398</td>\n",
       "    </tr>\n",
       "    <tr>\n",
       "      <th>1</th>\n",
       "      <td>47.782144</td>\n",
       "      <td>470.099265</td>\n",
       "      <td>422.317121</td>\n",
       "      <td>3.866652</td>\n",
       "    </tr>\n",
       "    <tr>\n",
       "      <th>3</th>\n",
       "      <td>31.939632</td>\n",
       "      <td>301.243109</td>\n",
       "      <td>269.303477</td>\n",
       "      <td>3.463848</td>\n",
       "    </tr>\n",
       "    <tr>\n",
       "      <th>4</th>\n",
       "      <td>12.020839</td>\n",
       "      <td>478.032811</td>\n",
       "      <td>466.011972</td>\n",
       "      <td>2.486642</td>\n",
       "    </tr>\n",
       "    <tr>\n",
       "      <th>5</th>\n",
       "      <td>28.403061</td>\n",
       "      <td>517.457781</td>\n",
       "      <td>523.691504</td>\n",
       "      <td>3.346497</td>\n",
       "    </tr>\n",
       "    <tr>\n",
       "      <th>...</th>\n",
       "      <td>...</td>\n",
       "      <td>...</td>\n",
       "      <td>...</td>\n",
       "      <td>...</td>\n",
       "    </tr>\n",
       "    <tr>\n",
       "      <th>95</th>\n",
       "      <td>27.220802</td>\n",
       "      <td>418.418971</td>\n",
       "      <td>391.198170</td>\n",
       "      <td>3.303981</td>\n",
       "    </tr>\n",
       "    <tr>\n",
       "      <th>96</th>\n",
       "      <td>28.522977</td>\n",
       "      <td>492.289829</td>\n",
       "      <td>463.766852</td>\n",
       "      <td>3.350710</td>\n",
       "    </tr>\n",
       "    <tr>\n",
       "      <th>97</th>\n",
       "      <td>24.239346</td>\n",
       "      <td>534.115198</td>\n",
       "      <td>509.875852</td>\n",
       "      <td>3.187977</td>\n",
       "    </tr>\n",
       "    <tr>\n",
       "      <th>98</th>\n",
       "      <td>30.719304</td>\n",
       "      <td>1055.338160</td>\n",
       "      <td>521.525219</td>\n",
       "      <td>3.424891</td>\n",
       "    </tr>\n",
       "    <tr>\n",
       "      <th>99</th>\n",
       "      <td>9.855114</td>\n",
       "      <td>582.718325</td>\n",
       "      <td>572.863211</td>\n",
       "      <td>2.287991</td>\n",
       "    </tr>\n",
       "  </tbody>\n",
       "</table>\n",
       "<p>95 rows × 4 columns</p>\n",
       "</div>"
      ],
      "text/plain": [
       "     UnitCost        Sales      Profit  unit_cost\n",
       "0   21.854305   508.704707  486.850401   3.084398\n",
       "1   47.782144   470.099265  422.317121   3.866652\n",
       "3   31.939632   301.243109  269.303477   3.463848\n",
       "4   12.020839   478.032811  466.011972   2.486642\n",
       "5   28.403061   517.457781  523.691504   3.346497\n",
       "..        ...          ...         ...        ...\n",
       "95  27.220802   418.418971  391.198170   3.303981\n",
       "96  28.522977   492.289829  463.766852   3.350710\n",
       "97  24.239346   534.115198  509.875852   3.187977\n",
       "98  30.719304  1055.338160  521.525219   3.424891\n",
       "99   9.855114   582.718325  572.863211   2.287991\n",
       "\n",
       "[95 rows x 4 columns]"
      ]
     },
     "execution_count": 44,
     "metadata": {},
     "output_type": "execute_result"
    }
   ],
   "source": [
    "df= df[~outliers2]\n",
    "df"
   ]
  },
  {
   "cell_type": "code",
   "execution_count": 45,
   "id": "10e36f7a",
   "metadata": {},
   "outputs": [
    {
     "data": {
      "text/html": [
       "<div>\n",
       "<style scoped>\n",
       "    .dataframe tbody tr th:only-of-type {\n",
       "        vertical-align: middle;\n",
       "    }\n",
       "\n",
       "    .dataframe tbody tr th {\n",
       "        vertical-align: top;\n",
       "    }\n",
       "\n",
       "    .dataframe thead th {\n",
       "        text-align: right;\n",
       "    }\n",
       "</style>\n",
       "<table border=\"1\" class=\"dataframe\">\n",
       "  <thead>\n",
       "    <tr style=\"text-align: right;\">\n",
       "      <th></th>\n",
       "      <th>UnitCost</th>\n",
       "      <th>Sales</th>\n",
       "      <th>Profit</th>\n",
       "      <th>unit_cost</th>\n",
       "      <th>sales</th>\n",
       "    </tr>\n",
       "  </thead>\n",
       "  <tbody>\n",
       "    <tr>\n",
       "      <th>0</th>\n",
       "      <td>21.854305</td>\n",
       "      <td>508.704707</td>\n",
       "      <td>486.850401</td>\n",
       "      <td>3.084398</td>\n",
       "      <td>6.231868</td>\n",
       "    </tr>\n",
       "    <tr>\n",
       "      <th>1</th>\n",
       "      <td>47.782144</td>\n",
       "      <td>470.099265</td>\n",
       "      <td>422.317121</td>\n",
       "      <td>3.866652</td>\n",
       "      <td>6.152944</td>\n",
       "    </tr>\n",
       "    <tr>\n",
       "      <th>3</th>\n",
       "      <td>31.939632</td>\n",
       "      <td>301.243109</td>\n",
       "      <td>269.303477</td>\n",
       "      <td>3.463848</td>\n",
       "      <td>5.707918</td>\n",
       "    </tr>\n",
       "    <tr>\n",
       "      <th>4</th>\n",
       "      <td>12.020839</td>\n",
       "      <td>478.032811</td>\n",
       "      <td>466.011972</td>\n",
       "      <td>2.486642</td>\n",
       "      <td>6.169679</td>\n",
       "    </tr>\n",
       "    <tr>\n",
       "      <th>5</th>\n",
       "      <td>28.403061</td>\n",
       "      <td>517.457781</td>\n",
       "      <td>523.691504</td>\n",
       "      <td>3.346497</td>\n",
       "      <td>6.248928</td>\n",
       "    </tr>\n",
       "    <tr>\n",
       "      <th>...</th>\n",
       "      <td>...</td>\n",
       "      <td>...</td>\n",
       "      <td>...</td>\n",
       "      <td>...</td>\n",
       "      <td>...</td>\n",
       "    </tr>\n",
       "    <tr>\n",
       "      <th>95</th>\n",
       "      <td>27.220802</td>\n",
       "      <td>418.418971</td>\n",
       "      <td>391.198170</td>\n",
       "      <td>3.303981</td>\n",
       "      <td>6.036483</td>\n",
       "    </tr>\n",
       "    <tr>\n",
       "      <th>96</th>\n",
       "      <td>28.522977</td>\n",
       "      <td>492.289829</td>\n",
       "      <td>463.766852</td>\n",
       "      <td>3.350710</td>\n",
       "      <td>6.199068</td>\n",
       "    </tr>\n",
       "    <tr>\n",
       "      <th>97</th>\n",
       "      <td>24.239346</td>\n",
       "      <td>534.115198</td>\n",
       "      <td>509.875852</td>\n",
       "      <td>3.187977</td>\n",
       "      <td>6.280612</td>\n",
       "    </tr>\n",
       "    <tr>\n",
       "      <th>98</th>\n",
       "      <td>30.719304</td>\n",
       "      <td>1055.338160</td>\n",
       "      <td>521.525219</td>\n",
       "      <td>3.424891</td>\n",
       "      <td>6.961617</td>\n",
       "    </tr>\n",
       "    <tr>\n",
       "      <th>99</th>\n",
       "      <td>9.855114</td>\n",
       "      <td>582.718325</td>\n",
       "      <td>572.863211</td>\n",
       "      <td>2.287991</td>\n",
       "      <td>6.367704</td>\n",
       "    </tr>\n",
       "  </tbody>\n",
       "</table>\n",
       "<p>95 rows × 5 columns</p>\n",
       "</div>"
      ],
      "text/plain": [
       "     UnitCost        Sales      Profit  unit_cost     sales\n",
       "0   21.854305   508.704707  486.850401   3.084398  6.231868\n",
       "1   47.782144   470.099265  422.317121   3.866652  6.152944\n",
       "3   31.939632   301.243109  269.303477   3.463848  5.707918\n",
       "4   12.020839   478.032811  466.011972   2.486642  6.169679\n",
       "5   28.403061   517.457781  523.691504   3.346497  6.248928\n",
       "..        ...          ...         ...        ...       ...\n",
       "95  27.220802   418.418971  391.198170   3.303981  6.036483\n",
       "96  28.522977   492.289829  463.766852   3.350710  6.199068\n",
       "97  24.239346   534.115198  509.875852   3.187977  6.280612\n",
       "98  30.719304  1055.338160  521.525219   3.424891  6.961617\n",
       "99   9.855114   582.718325  572.863211   2.287991  6.367704\n",
       "\n",
       "[95 rows x 5 columns]"
      ]
     },
     "execution_count": 45,
     "metadata": {},
     "output_type": "execute_result"
    }
   ],
   "source": [
    "df['sales'] = np.log(df['Sales'])\n",
    "df"
   ]
  },
  {
   "cell_type": "code",
   "execution_count": 46,
   "id": "715450b1",
   "metadata": {},
   "outputs": [
    {
     "data": {
      "text/plain": [
       "<Axes: xlabel='sales', ylabel='Count'>"
      ]
     },
     "execution_count": 46,
     "metadata": {},
     "output_type": "execute_result"
    },
    {
     "data": {
      "image/png": "[encoded data removed]",
      "text/plain": [
       "<Figure size 640x480 with 1 Axes>"
      ]
     },
     "metadata": {},
     "output_type": "display_data"
    }
   ],
   "source": [
    "sns.histplot(x='sales',data=df,color='brown')"
   ]
  },
  {
   "cell_type": "code",
   "execution_count": 47,
   "id": "5fa132d3",
   "metadata": {},
   "outputs": [
    {
     "name": "stdout",
     "output_type": "stream",
     "text": [
      "The number of outliers in the transformed sales column is: 6\n"
     ]
    }
   ],
   "source": [
    "Q1 = df['sales'].quantile(0.25)\n",
    "Q3 = df['sales'].quantile(0.75)\n",
    "IQR = Q3 - Q1\n",
    "\n",
    "outliers3 = (df['sales'] < (Q1 - 1.5 * IQR)) | (df['sales'] > (Q3 + 1.5 * IQR))\n",
    "num_outliers = outliers3.sum()\n",
    "\n",
    "print('The number of outliers in the transformed sales column is:',num_outliers)"
   ]
  },
  {
   "cell_type": "code",
   "execution_count": 48,
   "id": "77d0a3e2",
   "metadata": {},
   "outputs": [
    {
     "data": {
      "text/html": [
       "<div>\n",
       "<style scoped>\n",
       "    .dataframe tbody tr th:only-of-type {\n",
       "        vertical-align: middle;\n",
       "    }\n",
       "\n",
       "    .dataframe tbody tr th {\n",
       "        vertical-align: top;\n",
       "    }\n",
       "\n",
       "    .dataframe thead th {\n",
       "        text-align: right;\n",
       "    }\n",
       "</style>\n",
       "<table border=\"1\" class=\"dataframe\">\n",
       "  <thead>\n",
       "    <tr style=\"text-align: right;\">\n",
       "      <th></th>\n",
       "      <th>UnitCost</th>\n",
       "      <th>Sales</th>\n",
       "      <th>Profit</th>\n",
       "      <th>unit_cost</th>\n",
       "      <th>sales</th>\n",
       "    </tr>\n",
       "  </thead>\n",
       "  <tbody>\n",
       "    <tr>\n",
       "      <th>0</th>\n",
       "      <td>21.854305</td>\n",
       "      <td>508.704707</td>\n",
       "      <td>486.850401</td>\n",
       "      <td>3.084398</td>\n",
       "      <td>6.231868</td>\n",
       "    </tr>\n",
       "    <tr>\n",
       "      <th>1</th>\n",
       "      <td>47.782144</td>\n",
       "      <td>470.099265</td>\n",
       "      <td>422.317121</td>\n",
       "      <td>3.866652</td>\n",
       "      <td>6.152944</td>\n",
       "    </tr>\n",
       "    <tr>\n",
       "      <th>4</th>\n",
       "      <td>12.020839</td>\n",
       "      <td>478.032811</td>\n",
       "      <td>466.011972</td>\n",
       "      <td>2.486642</td>\n",
       "      <td>6.169679</td>\n",
       "    </tr>\n",
       "    <tr>\n",
       "      <th>5</th>\n",
       "      <td>28.403061</td>\n",
       "      <td>517.457781</td>\n",
       "      <td>523.691504</td>\n",
       "      <td>3.346497</td>\n",
       "      <td>6.248928</td>\n",
       "    </tr>\n",
       "    <tr>\n",
       "      <th>6</th>\n",
       "      <td>7.613763</td>\n",
       "      <td>647.789405</td>\n",
       "      <td>640.175642</td>\n",
       "      <td>2.029957</td>\n",
       "      <td>6.473566</td>\n",
       "    </tr>\n",
       "    <tr>\n",
       "      <th>...</th>\n",
       "      <td>...</td>\n",
       "      <td>...</td>\n",
       "      <td>...</td>\n",
       "      <td>...</td>\n",
       "      <td>...</td>\n",
       "    </tr>\n",
       "    <tr>\n",
       "      <th>94</th>\n",
       "      <td>39.693523</td>\n",
       "      <td>411.048557</td>\n",
       "      <td>371.355034</td>\n",
       "      <td>3.681188</td>\n",
       "      <td>6.018711</td>\n",
       "    </tr>\n",
       "    <tr>\n",
       "      <th>95</th>\n",
       "      <td>27.220802</td>\n",
       "      <td>418.418971</td>\n",
       "      <td>391.198170</td>\n",
       "      <td>3.303981</td>\n",
       "      <td>6.036483</td>\n",
       "    </tr>\n",
       "    <tr>\n",
       "      <th>96</th>\n",
       "      <td>28.522977</td>\n",
       "      <td>492.289829</td>\n",
       "      <td>463.766852</td>\n",
       "      <td>3.350710</td>\n",
       "      <td>6.199068</td>\n",
       "    </tr>\n",
       "    <tr>\n",
       "      <th>97</th>\n",
       "      <td>24.239346</td>\n",
       "      <td>534.115198</td>\n",
       "      <td>509.875852</td>\n",
       "      <td>3.187977</td>\n",
       "      <td>6.280612</td>\n",
       "    </tr>\n",
       "    <tr>\n",
       "      <th>99</th>\n",
       "      <td>9.855114</td>\n",
       "      <td>582.718325</td>\n",
       "      <td>572.863211</td>\n",
       "      <td>2.287991</td>\n",
       "      <td>6.367704</td>\n",
       "    </tr>\n",
       "  </tbody>\n",
       "</table>\n",
       "<p>89 rows × 5 columns</p>\n",
       "</div>"
      ],
      "text/plain": [
       "     UnitCost       Sales      Profit  unit_cost     sales\n",
       "0   21.854305  508.704707  486.850401   3.084398  6.231868\n",
       "1   47.782144  470.099265  422.317121   3.866652  6.152944\n",
       "4   12.020839  478.032811  466.011972   2.486642  6.169679\n",
       "5   28.403061  517.457781  523.691504   3.346497  6.248928\n",
       "6    7.613763  647.789405  640.175642   2.029957  6.473566\n",
       "..        ...         ...         ...        ...       ...\n",
       "94  39.693523  411.048557  371.355034   3.681188  6.018711\n",
       "95  27.220802  418.418971  391.198170   3.303981  6.036483\n",
       "96  28.522977  492.289829  463.766852   3.350710  6.199068\n",
       "97  24.239346  534.115198  509.875852   3.187977  6.280612\n",
       "99   9.855114  582.718325  572.863211   2.287991  6.367704\n",
       "\n",
       "[89 rows x 5 columns]"
      ]
     },
     "execution_count": 48,
     "metadata": {},
     "output_type": "execute_result"
    }
   ],
   "source": [
    "df= df[~outliers3]\n",
    "df"
   ]
  },
  {
   "cell_type": "code",
   "execution_count": 49,
   "id": "40964641",
   "metadata": {},
   "outputs": [
    {
     "data": {
      "text/plain": [
       "Index(['UnitCost', 'Sales', 'Profit', 'unit_cost', 'sales'], dtype='object')"
      ]
     },
     "execution_count": 49,
     "metadata": {},
     "output_type": "execute_result"
    }
   ],
   "source": [
    "df.columns"
   ]
  },
  {
   "cell_type": "code",
   "execution_count": 50,
   "id": "d949258a",
   "metadata": {},
   "outputs": [
    {
     "name": "stdout",
     "output_type": "stream",
     "text": [
      "             Profit  unit_cost     sales\n",
      "Profit     1.000000  -0.323448  0.815964\n",
      "unit_cost -0.323448   1.000000 -0.001328\n",
      "sales      0.815964  -0.001328  1.000000\n"
     ]
    },
    {
     "data": {
      "text/plain": [
       "<Axes: >"
      ]
     },
     "execution_count": 50,
     "metadata": {},
     "output_type": "execute_result"
    },
    {
     "data": {
      "image/png": "[encoded data removed]",
      "text/plain": [
       "<Figure size 640x480 with 2 Axes>"
      ]
     },
     "metadata": {},
     "output_type": "display_data"
    }
   ],
   "source": [
    "corr = df[['Profit', 'unit_cost', 'sales']].corr(method='pearson')\n",
    "print(corr)\n",
    "sns.heatmap(corr, annot=True)"
   ]
  },
  {
   "cell_type": "code",
   "execution_count": null,
   "id": "060db48e",
   "metadata": {},
   "outputs": [],
   "source": []
  },
  {
   "cell_type": "code",
   "execution_count": null,
   "id": "d090007c",
   "metadata": {},
   "outputs": [],
   "source": []
  }
 ],
 "metadata": {
  "kernelspec": {
   "display_name": "Python 3 (ipykernel)",
   "language": "python",
   "name": "python3"
  },
  "language_info": {
   "codemirror_mode": {
    "name": "ipython",
    "version": 3
   },
   "file_extension": ".py",
   "mimetype": "text/x-python",
   "name": "python",
   "nbconvert_exporter": "python",
   "pygments_lexer": "ipython3",
   "version": "3.11.4"
  }
 },
 "nbformat": 4,
 "nbformat_minor": 5
}
